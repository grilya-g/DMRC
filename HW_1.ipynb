{
 "cells": [
  {
   "cell_type": "code",
   "execution_count": 2,
   "metadata": {
    "pycharm": {
     "name": "#%%\n"
    }
   },
   "outputs": [],
   "source": [
    "import numpy\n",
    "import numpy as np\n",
    "import pandas as pd"
   ]
  },
  {
   "cell_type": "code",
   "execution_count": 3,
   "metadata": {
    "pycharm": {
     "name": "#%%\n"
    }
   },
   "outputs": [],
   "source": [
    "import matplotlib.pyplot as plt"
   ]
  },
  {
   "cell_type": "code",
   "execution_count": 4,
   "metadata": {
    "pycharm": {
     "name": "#%%\n"
    }
   },
   "outputs": [],
   "source": [
    "def q(y, p, method=1):\n",
    "    \"\"\"\n",
    "    Функция поиска значения квантиля с уровнем надежности р\n",
    "    :param y: массив\n",
    "    :param p: уровень надежности\n",
    "    :param method: метод поиска h\n",
    "    :return: квантиль с уровнем надежности р\n",
    "    \"\"\"\n",
    "    N = y.shape[0]\n",
    "\n",
    "    if method == 2:\n",
    "        h = N * p + 1/2\n",
    "    elif method == 3:\n",
    "        h = (N + 1/3) * p + 1/3\n",
    "    elif method == 4:\n",
    "        h =( N + 1/4) * p + 3/8\n",
    "    else:\n",
    "        h = N * p\n",
    "\n",
    "    q = y[int(np.floor(h))] + (h - np.floor(h)) *\\\n",
    "        (y[int(np.ceil(h))] - y[int(np.floor(h))])\n",
    "    return q"
   ]
  },
  {
   "cell_type": "code",
   "execution_count": 5,
   "metadata": {
    "pycharm": {
     "name": "#%%\n"
    }
   },
   "outputs": [],
   "source": [
    "def var(y, alfa):\n",
    "    \"\"\"\n",
    "    Функция поиска значения критерия VaR\n",
    "    :param y: массив\n",
    "    :param alpha: уровень надежности\n",
    "    :return: значение критерия VaR\n",
    "    \"\"\"\n",
    "    return q(y, 1 - alfa)"
   ]
  },
  {
   "cell_type": "code",
   "execution_count": 35,
   "outputs": [],
   "source": [
    "def cvar_aver(y, alpha):\n",
    "    \"\"\"\n",
    "    Функция поиска значения критерия CVaR\n",
    "    :param y: массив\n",
    "    :param alpha: уровень надежности\n",
    "    :return: значение критерия CVaR\n",
    "    \"\"\"\n",
    "    N = y.shape[0]\n",
    "    q_ = q(y, 1 - alpha)\n",
    "    ar = y[y < q_]\n",
    "    l = ar.shape[0]\n",
    "\n",
    "    num = np.sum(ar * 1 / N)\n",
    "    denum = l / N\n",
    "\n",
    "    return np.average(y[y < q_])"
   ],
   "metadata": {
    "collapsed": false,
    "pycharm": {
     "name": "#%%\n"
    }
   }
  },
  {
   "cell_type": "code",
   "execution_count": 6,
   "metadata": {
    "pycharm": {
     "name": "#%%\n"
    }
   },
   "outputs": [],
   "source": [
    "def cvar(y, alpha):\n",
    "    \"\"\"\n",
    "    Функция поиска значения критерия CVaR\n",
    "    :param y: массив\n",
    "    :param alpha: уровень надежности\n",
    "    :return: значение критерия CVaR\n",
    "    \"\"\"\n",
    "    N = y.shape[0]\n",
    "    q_ = q(y, 1 - alpha)\n",
    "    ar = y[y < q_]\n",
    "    l = ar.shape[0]\n",
    "\n",
    "    num = np.sum(ar * 1 / N)\n",
    "    denum = l / N\n",
    "\n",
    "    return num / denum"
   ]
  },
  {
   "cell_type": "code",
   "execution_count": 7,
   "metadata": {
    "pycharm": {
     "name": "#%%\n"
    }
   },
   "outputs": [],
   "source": [
    "def E(y):\n",
    "    \"\"\"\n",
    "    Функция поиска выборочного среднего\n",
    "    :param y: массив\n",
    "    :return: выборочное среднее\n",
    "    \"\"\"\n",
    "    return np.average(y)"
   ]
  },
  {
   "cell_type": "code",
   "execution_count": 8,
   "metadata": {
    "pycharm": {
     "name": "#%%\n"
    }
   },
   "outputs": [],
   "source": [
    "def D(y):\n",
    "    \"\"\"\n",
    "    Функция поиска выборочной дисперсии\n",
    "    :param y: массив\n",
    "    :return: диспресия\n",
    "    \"\"\"\n",
    "    N = y.shape[0]\n",
    "    EE = np.sum(y*y) / N\n",
    "    return EE - E(y) ** 2"
   ]
  },
  {
   "cell_type": "code",
   "execution_count": 9,
   "metadata": {
    "pycharm": {
     "name": "#%%\n"
    }
   },
   "outputs": [],
   "source": [
    "def r(x, y):\n",
    "    \"\"\"\n",
    "    Функция поиска коэффициента корреляции между массивами х и у\n",
    "    :param x: массив\n",
    "    :param y: массив\n",
    "    :return: коэффициент корреляции\n",
    "    \"\"\"\n",
    "    return np.cov(x, y)[0][1]"
   ]
  },
  {
   "cell_type": "code",
   "execution_count": 10,
   "metadata": {
    "pycharm": {
     "name": "#%%\n"
    }
   },
   "outputs": [],
   "source": [
    "def preproc(y):\n",
    "    \"\"\"\n",
    "Функция получения доходностей из массива с ценами\n",
    "    :param y: массив с ценами\n",
    "    :return: массив с доходностями\n",
    "    \"\"\"\n",
    "    return (y[1:] - y[:-1]) / y[:-1]"
   ]
  },
  {
   "cell_type": "code",
   "execution_count": 11,
   "metadata": {
    "pycharm": {
     "name": "#%%\n"
    }
   },
   "outputs": [],
   "source": [
    "YNDX = pd.read_csv('YNDX_201016_211016.csv') # считываем данные из файла\n",
    "MAGN = pd.read_csv('MAGN_201016_211016.csv')"
   ]
  },
  {
   "cell_type": "code",
   "execution_count": 12,
   "metadata": {
    "pycharm": {
     "name": "#%%\n"
    }
   },
   "outputs": [
    {
     "data": {
      "text/plain": "    <TICKER> <PER>    <DATE>  <TIME>  <CLOSE>\n0       YNDX     D  20201016       0   4530.0\n1       YNDX     D  20201019       0   4457.0\n2       YNDX     D  20201020       0   4340.0\n3       YNDX     D  20201021       0   4410.2\n4       YNDX     D  20201022       0   4455.0\n..       ...   ...       ...     ...      ...\n250     YNDX     D  20211011       0   5622.2\n251     YNDX     D  20211012       0   5549.0\n252     YNDX     D  20211013       0   5553.8\n253     YNDX     D  20211014       0   5518.0\n254     YNDX     D  20211015       0   5427.2\n\n[255 rows x 5 columns]",
      "text/html": "<div>\n<style scoped>\n    .dataframe tbody tr th:only-of-type {\n        vertical-align: middle;\n    }\n\n    .dataframe tbody tr th {\n        vertical-align: top;\n    }\n\n    .dataframe thead th {\n        text-align: right;\n    }\n</style>\n<table border=\"1\" class=\"dataframe\">\n  <thead>\n    <tr style=\"text-align: right;\">\n      <th></th>\n      <th>&lt;TICKER&gt;</th>\n      <th>&lt;PER&gt;</th>\n      <th>&lt;DATE&gt;</th>\n      <th>&lt;TIME&gt;</th>\n      <th>&lt;CLOSE&gt;</th>\n    </tr>\n  </thead>\n  <tbody>\n    <tr>\n      <th>0</th>\n      <td>YNDX</td>\n      <td>D</td>\n      <td>20201016</td>\n      <td>0</td>\n      <td>4530.0</td>\n    </tr>\n    <tr>\n      <th>1</th>\n      <td>YNDX</td>\n      <td>D</td>\n      <td>20201019</td>\n      <td>0</td>\n      <td>4457.0</td>\n    </tr>\n    <tr>\n      <th>2</th>\n      <td>YNDX</td>\n      <td>D</td>\n      <td>20201020</td>\n      <td>0</td>\n      <td>4340.0</td>\n    </tr>\n    <tr>\n      <th>3</th>\n      <td>YNDX</td>\n      <td>D</td>\n      <td>20201021</td>\n      <td>0</td>\n      <td>4410.2</td>\n    </tr>\n    <tr>\n      <th>4</th>\n      <td>YNDX</td>\n      <td>D</td>\n      <td>20201022</td>\n      <td>0</td>\n      <td>4455.0</td>\n    </tr>\n    <tr>\n      <th>...</th>\n      <td>...</td>\n      <td>...</td>\n      <td>...</td>\n      <td>...</td>\n      <td>...</td>\n    </tr>\n    <tr>\n      <th>250</th>\n      <td>YNDX</td>\n      <td>D</td>\n      <td>20211011</td>\n      <td>0</td>\n      <td>5622.2</td>\n    </tr>\n    <tr>\n      <th>251</th>\n      <td>YNDX</td>\n      <td>D</td>\n      <td>20211012</td>\n      <td>0</td>\n      <td>5549.0</td>\n    </tr>\n    <tr>\n      <th>252</th>\n      <td>YNDX</td>\n      <td>D</td>\n      <td>20211013</td>\n      <td>0</td>\n      <td>5553.8</td>\n    </tr>\n    <tr>\n      <th>253</th>\n      <td>YNDX</td>\n      <td>D</td>\n      <td>20211014</td>\n      <td>0</td>\n      <td>5518.0</td>\n    </tr>\n    <tr>\n      <th>254</th>\n      <td>YNDX</td>\n      <td>D</td>\n      <td>20211015</td>\n      <td>0</td>\n      <td>5427.2</td>\n    </tr>\n  </tbody>\n</table>\n<p>255 rows × 5 columns</p>\n</div>"
     },
     "execution_count": 12,
     "metadata": {},
     "output_type": "execute_result"
    }
   ],
   "source": [
    "YNDX"
   ]
  },
  {
   "cell_type": "code",
   "execution_count": 13,
   "metadata": {
    "pycharm": {
     "name": "#%%\n"
    }
   },
   "outputs": [],
   "source": [
    "y_start = YNDX['<CLOSE>'].to_numpy() # извлкеаем цены в массив\n",
    "m_start = MAGN['<CLOSE>'].to_numpy()"
   ]
  },
  {
   "cell_type": "code",
   "execution_count": 14,
   "metadata": {
    "pycharm": {
     "name": "#%%\n"
    }
   },
   "outputs": [],
   "source": [
    "m = preproc(m_start) # доходности\n",
    "y = preproc(y_start)"
   ]
  },
  {
   "cell_type": "code",
   "execution_count": 15,
   "metadata": {
    "pycharm": {
     "name": "#%%\n"
    }
   },
   "outputs": [
    {
     "name": "stdout",
     "output_type": "stream",
     "text": [
      "[-1.57480315e-03  2.09349011e-02  1.95224719e-02  3.48532856e-02\n",
      " -7.72097977e-03 -1.43547089e-02 -2.13692664e-02 -1.19610570e-02\n",
      "  2.54786036e-02  2.10020590e-02  1.64022587e-02  2.38095238e-02\n",
      "  2.58397933e-03  6.18556701e-03  3.84221311e-03 -1.02066854e-03\n",
      "  4.90421456e-02 -5.35670806e-03  1.98286414e-02  3.21651464e-02\n",
      " -1.02325581e-02 -1.65648496e-02  5.25624179e-03 -7.01128936e-03\n",
      "  3.35088559e-03  4.77099237e-03  9.49667616e-03  3.64534337e-03\n",
      "  4.10076157e-03  1.47024504e-02  2.75988960e-03  3.87614679e-02\n",
      " -1.97615368e-02  1.00236513e-02  5.92105263e-02 -1.68438783e-03\n",
      " -8.75250448e-03  2.51063830e-02  1.34910751e-02  4.34159328e-02\n",
      "  1.94308145e-02  1.65575664e-02  3.97727273e-03 -9.62082626e-03\n",
      " -9.90476190e-03  2.87610619e-02  2.33754091e-02  2.89629968e-02\n",
      "  2.90356953e-02  8.37000604e-03 -2.58428889e-02 -1.90618412e-02\n",
      "  1.96113549e-02  1.22958019e-03 -4.21052632e-03  1.63847780e-02\n",
      "  3.90015601e-03 -1.81300181e-03 -5.37969209e-02  4.10420475e-02\n",
      " -1.22047590e-02  1.08444444e-02  8.17798101e-03 -4.53554296e-03\n",
      " -2.12038903e-02 -1.04735476e-02 -7.87045413e-03 -7.75052430e-03\n",
      " -2.52710899e-02 -1.65928161e-02 -4.98514045e-03  3.26621062e-02\n",
      " -1.09162157e-02  8.86708801e-03 -7.48013090e-03 -1.76165803e-02\n",
      "  2.20560031e-03 -8.03750837e-03 -5.78759525e-04 -6.85262040e-03\n",
      "  1.24392614e-02 -5.18333653e-03  1.14820533e-02 -5.15119718e-03\n",
      " -2.02320453e-02  1.25269133e-02  1.10187512e-02  1.51051625e-02\n",
      " -1.03597664e-02  1.04682147e-02  2.10020720e-02  1.65113919e-02\n",
      " -2.45009074e-03  2.13772401e-02 -3.09939437e-02  4.77941176e-03\n",
      " -2.30515917e-02  3.93258427e-03  2.58347323e-02  1.27284299e-02\n",
      "  1.88526798e-03 -8.96057348e-03 -1.66365280e-02 -1.41596175e-02\n",
      "  1.47360567e-02 -1.13970588e-02 -1.48754184e-02  9.34314836e-03\n",
      "  6.17110799e-03  4.15388904e-02  2.81049251e-02  1.46663195e-02\n",
      "  4.14813548e-02 -1.93807999e-02 -1.00494096e-03  7.46080979e-03\n",
      "  4.57646863e-03  2.36892239e-02  6.06845214e-03 -2.97571176e-03\n",
      "  4.53335484e-02  7.48514546e-03 -8.96139706e-03  1.24430018e-02\n",
      "  5.07633588e-02 -2.10679259e-03 -1.84187536e-02  1.43884892e-02\n",
      "  8.84696936e-03  1.92781563e-02 -1.53583618e-02 -5.18486424e-02\n",
      "  1.55369383e-02  2.09989501e-03 -2.31252806e-02  2.29832222e-04\n",
      "  4.67218137e-03 -8.15735305e-03  6.22598002e-03 -1.49721182e-02\n",
      " -1.00038775e-02 -7.91164029e-03  7.89577576e-05  5.84241276e-03\n",
      " -6.59340659e-03  1.29582807e-02 -1.84867395e-02  3.94977350e-02\n",
      "  3.05810398e-03 -5.79268293e-03  1.45660840e-03 -1.17124703e-02\n",
      " -1.65762974e-02 -7.01008192e-03  2.14166733e-03  1.32974513e-02\n",
      "  2.67145758e-02 -1.12598904e-02 -8.31024931e-03  4.03476102e-03\n",
      " -2.24111283e-03  1.85113469e-02  2.66159696e-02  7.70370370e-03\n",
      " -6.17465451e-03 -8.87573964e-03 -3.72388060e-02 -1.50375940e-02\n",
      " -4.09223263e-03  6.95377321e-03 -1.27128620e-02  9.77664733e-03\n",
      " -3.71536524e-02 -1.99476782e-02  4.25425425e-03 -2.16795415e-02\n",
      "  2.87824758e-02 -1.01510275e-02 -3.75187594e-03 -1.12143276e-02\n",
      " -2.53068134e-02  2.40534908e-02 -9.58195540e-03  4.10958904e-02\n",
      "  4.93421053e-03  2.91325696e-02 -1.27226463e-02  1.22422680e-02\n",
      " -1.33672820e-02 -1.61290323e-04  1.65349250e-02  1.64246608e-02\n",
      "  1.95160031e-02  1.99081164e-02  8.63363363e-03  1.83848158e-02\n",
      "  6.43180822e-03  7.26216412e-03 -8.00288392e-03  5.08757904e-03\n",
      "  1.44623617e-04  1.19297231e-02  3.64389826e-03 -2.30654232e-02\n",
      " -1.58128689e-02  1.95468681e-02 -2.90486565e-04 -1.08964114e-03\n",
      " -3.05432332e-03 -5.03318988e-03 -1.40762463e-02 -7.28732897e-03\n",
      " -6.51685393e-03  3.58139184e-02  6.55117193e-03  1.00520683e-02\n",
      "  2.89253240e-02 -4.52299770e-03 -2.09702223e-03  9.10619221e-04\n",
      "  3.35922738e-02  2.90473289e-02  1.22384524e-02 -3.25013001e-03\n",
      "  3.31289944e-02 -4.60800404e-03 -1.08440611e-02 -3.55814848e-02\n",
      "  4.02845177e-02 -1.72534986e-03 -2.57329407e-02  3.81077530e-03\n",
      " -2.29087577e-03 -2.81440661e-02 -2.58539220e-02  4.03991407e-02\n",
      "  4.34261356e-02 -1.83837610e-02 -4.87709715e-02 -7.51982499e-03\n",
      " -2.67943243e-02 -2.01005025e-02 -1.22788010e-02  1.90127971e-02\n",
      " -3.60961607e-02  3.94580107e-03  3.49276974e-02  3.22441960e-03\n",
      "  2.04985358e-02  1.31578947e-02 -1.09146173e-02 -2.87749686e-02\n",
      "  7.19114051e-05 -1.61789027e-02]\n"
     ]
    }
   ],
   "source": [
    "print(m)"
   ]
  },
  {
   "cell_type": "code",
   "execution_count": 16,
   "metadata": {
    "pycharm": {
     "name": "#%%\n"
    }
   },
   "outputs": [
    {
     "data": {
      "text/plain": "200"
     },
     "execution_count": 16,
     "metadata": {},
     "output_type": "execute_result"
    }
   ],
   "source": [
    "y = np.copy(y[:200]) # оставляем по 200 значений\n",
    "m = np.copy(m[:200])\n",
    "\n",
    "m.shape[0]"
   ]
  },
  {
   "cell_type": "code",
   "execution_count": 17,
   "metadata": {
    "pycharm": {
     "name": "#%%\n"
    }
   },
   "outputs": [
    {
     "name": "stdout",
     "output_type": "stream",
     "text": [
      "[-1.57480315e-03  2.09349011e-02  1.95224719e-02  3.48532856e-02\n",
      " -7.72097977e-03 -1.43547089e-02 -2.13692664e-02 -1.19610570e-02\n",
      "  2.54786036e-02  2.10020590e-02  1.64022587e-02  2.38095238e-02\n",
      "  2.58397933e-03  6.18556701e-03  3.84221311e-03 -1.02066854e-03\n",
      "  4.90421456e-02 -5.35670806e-03  1.98286414e-02  3.21651464e-02\n",
      " -1.02325581e-02 -1.65648496e-02  5.25624179e-03 -7.01128936e-03\n",
      "  3.35088559e-03  4.77099237e-03  9.49667616e-03  3.64534337e-03\n",
      "  4.10076157e-03  1.47024504e-02  2.75988960e-03  3.87614679e-02\n",
      " -1.97615368e-02  1.00236513e-02  5.92105263e-02 -1.68438783e-03\n",
      " -8.75250448e-03  2.51063830e-02  1.34910751e-02  4.34159328e-02\n",
      "  1.94308145e-02  1.65575664e-02  3.97727273e-03 -9.62082626e-03\n",
      " -9.90476190e-03  2.87610619e-02  2.33754091e-02  2.89629968e-02\n",
      "  2.90356953e-02  8.37000604e-03 -2.58428889e-02 -1.90618412e-02\n",
      "  1.96113549e-02  1.22958019e-03 -4.21052632e-03  1.63847780e-02\n",
      "  3.90015601e-03 -1.81300181e-03 -5.37969209e-02  4.10420475e-02\n",
      " -1.22047590e-02  1.08444444e-02  8.17798101e-03 -4.53554296e-03\n",
      " -2.12038903e-02 -1.04735476e-02 -7.87045413e-03 -7.75052430e-03\n",
      " -2.52710899e-02 -1.65928161e-02 -4.98514045e-03  3.26621062e-02\n",
      " -1.09162157e-02  8.86708801e-03 -7.48013090e-03 -1.76165803e-02\n",
      "  2.20560031e-03 -8.03750837e-03 -5.78759525e-04 -6.85262040e-03\n",
      "  1.24392614e-02 -5.18333653e-03  1.14820533e-02 -5.15119718e-03\n",
      " -2.02320453e-02  1.25269133e-02  1.10187512e-02  1.51051625e-02\n",
      " -1.03597664e-02  1.04682147e-02  2.10020720e-02  1.65113919e-02\n",
      " -2.45009074e-03  2.13772401e-02 -3.09939437e-02  4.77941176e-03\n",
      " -2.30515917e-02  3.93258427e-03  2.58347323e-02  1.27284299e-02\n",
      "  1.88526798e-03 -8.96057348e-03 -1.66365280e-02 -1.41596175e-02\n",
      "  1.47360567e-02 -1.13970588e-02 -1.48754184e-02  9.34314836e-03\n",
      "  6.17110799e-03  4.15388904e-02  2.81049251e-02  1.46663195e-02\n",
      "  4.14813548e-02 -1.93807999e-02 -1.00494096e-03  7.46080979e-03\n",
      "  4.57646863e-03  2.36892239e-02  6.06845214e-03 -2.97571176e-03\n",
      "  4.53335484e-02  7.48514546e-03 -8.96139706e-03  1.24430018e-02\n",
      "  5.07633588e-02 -2.10679259e-03 -1.84187536e-02  1.43884892e-02\n",
      "  8.84696936e-03  1.92781563e-02 -1.53583618e-02 -5.18486424e-02\n",
      "  1.55369383e-02  2.09989501e-03 -2.31252806e-02  2.29832222e-04\n",
      "  4.67218137e-03 -8.15735305e-03  6.22598002e-03 -1.49721182e-02\n",
      " -1.00038775e-02 -7.91164029e-03  7.89577576e-05  5.84241276e-03\n",
      " -6.59340659e-03  1.29582807e-02 -1.84867395e-02  3.94977350e-02\n",
      "  3.05810398e-03 -5.79268293e-03  1.45660840e-03 -1.17124703e-02\n",
      " -1.65762974e-02 -7.01008192e-03  2.14166733e-03  1.32974513e-02\n",
      "  2.67145758e-02 -1.12598904e-02 -8.31024931e-03  4.03476102e-03\n",
      " -2.24111283e-03  1.85113469e-02  2.66159696e-02  7.70370370e-03\n",
      " -6.17465451e-03 -8.87573964e-03 -3.72388060e-02 -1.50375940e-02\n",
      " -4.09223263e-03  6.95377321e-03 -1.27128620e-02  9.77664733e-03\n",
      " -3.71536524e-02 -1.99476782e-02  4.25425425e-03 -2.16795415e-02\n",
      "  2.87824758e-02 -1.01510275e-02 -3.75187594e-03 -1.12143276e-02\n",
      " -2.53068134e-02  2.40534908e-02 -9.58195540e-03  4.10958904e-02\n",
      "  4.93421053e-03  2.91325696e-02 -1.27226463e-02  1.22422680e-02\n",
      " -1.33672820e-02 -1.61290323e-04  1.65349250e-02  1.64246608e-02\n",
      "  1.95160031e-02  1.99081164e-02  8.63363363e-03  1.83848158e-02\n",
      "  6.43180822e-03  7.26216412e-03 -8.00288392e-03  5.08757904e-03]\n"
     ]
    }
   ],
   "source": [
    "print(m)\n"
   ]
  },
  {
   "cell_type": "code",
   "execution_count": 18,
   "metadata": {
    "pycharm": {
     "name": "#%%\n"
    }
   },
   "outputs": [],
   "source": [
    "import seaborn as sns"
   ]
  },
  {
   "cell_type": "raw",
   "metadata": {},
   "source": [
    "Ф.р. доходностей ММК"
   ]
  },
  {
   "cell_type": "code",
   "execution_count": 19,
   "metadata": {
    "pycharm": {
     "name": "#%%\n"
    }
   },
   "outputs": [
    {
     "data": {
      "text/plain": "<seaborn.axisgrid.FacetGrid at 0x2326ee82880>"
     },
     "execution_count": 19,
     "metadata": {},
     "output_type": "execute_result"
    },
    {
     "data": {
      "text/plain": "<Figure size 500x500 with 1 Axes>",
      "image/png": "[encoded data removed]"
     },
     "metadata": {},
     "output_type": "display_data"
    }
   ],
   "source": [
    "sns.displot(m, kind=\"ecdf\")"
   ]
  },
  {
   "cell_type": "raw",
   "metadata": {},
   "source": [
    "Ф.р.доходностей Яндекса"
   ]
  },
  {
   "cell_type": "code",
   "execution_count": 20,
   "metadata": {
    "pycharm": {
     "name": "#%%\n"
    }
   },
   "outputs": [
    {
     "data": {
      "text/plain": "<seaborn.axisgrid.FacetGrid at 0x232710c29d0>"
     },
     "execution_count": 20,
     "metadata": {},
     "output_type": "execute_result"
    },
    {
     "data": {
      "text/plain": "<Figure size 500x500 with 1 Axes>",
      "image/png": "[encoded data removed]"
     },
     "metadata": {},
     "output_type": "display_data"
    }
   ],
   "source": [
    "sns.displot(y, kind=\"ecdf\")"
   ]
  },
  {
   "cell_type": "markdown",
   "source": [
    "Графики строится не совсем корректно, по оси абсцисс до 0 слева и от 1 вправо\n",
    "соответственно должны быть лучи, уходящие на бесконечность."
   ],
   "metadata": {
    "collapsed": false
   }
  },
  {
   "cell_type": "markdown",
   "metadata": {},
   "source": [
    "Выборочный коэффициент корреляции доходностей"
   ]
  },
  {
   "cell_type": "code",
   "execution_count": 21,
   "metadata": {
    "pycharm": {
     "name": "#%%\n"
    }
   },
   "outputs": [
    {
     "name": "stdout",
     "output_type": "stream",
     "text": [
      "выборочный коэффициент корреляции доходностей ММК и Яндекса —  0.08196490488167592\n"
     ]
    }
   ],
   "source": [
    "print('выборочный коэффициент корреляции доходностей ММК и Яндекса — ',\\\n",
    "      np.corrcoef(m, y)[0, 1])"
   ]
  },
  {
   "cell_type": "markdown",
   "metadata": {},
   "source": [
    "Выборочные средние значения доходностей"
   ]
  },
  {
   "cell_type": "code",
   "execution_count": 22,
   "metadata": {
    "pycharm": {
     "name": "#%%\n"
    }
   },
   "outputs": [
    {
     "name": "stdout",
     "output_type": "stream",
     "text": [
      "выборочное среднее значение доходностей ММК —  0.0035893666824829097\n",
      "выборочное среднее значение доходностей Яндекса —  0.0005785485665870061\n"
     ]
    }
   ],
   "source": [
    "print('выборочное среднее значение доходностей ММК — ', np.average(m))\n",
    "print('выборочное среднее значение доходностей Яндекса — ', np.average(y))"
   ]
  },
  {
   "cell_type": "markdown",
   "metadata": {},
   "source": [
    "Выборочные дисперсии доходностей"
   ]
  },
  {
   "cell_type": "code",
   "execution_count": 23,
   "metadata": {
    "pycharm": {
     "name": "#%%\n"
    }
   },
   "outputs": [
    {
     "name": "stdout",
     "output_type": "stream",
     "text": [
      "выборочная дисперсия доходностей ММК —  0.0003387694959701702\n",
      "выборочная дисперсия доходностей Яндекса —  0.00029457494963915825\n"
     ]
    }
   ],
   "source": [
    "print('выборочная дисперсия доходностей ММК — ', D(m))\n",
    "print('выборочная дисперсия доходностей Яндекса — ', D(y))"
   ]
  },
  {
   "cell_type": "markdown",
   "metadata": {},
   "source": [
    "Выборочные дисперсии доходностей"
   ]
  },
  {
   "cell_type": "code",
   "execution_count": 24,
   "metadata": {
    "pycharm": {
     "name": "#%%\n"
    }
   },
   "outputs": [
    {
     "name": "stdout",
     "output_type": "stream",
     "text": [
      "выборочная дисперсия доходностей ММК —  0.0003387694959701702\n",
      "выборочная дисперсия доходностей Яндекса —  0.00029457494963915825\n"
     ]
    }
   ],
   "source": [
    "print('выборочная дисперсия доходностей ММК — ', np.var(m))\n",
    "print('выборочная дисперсия доходностей Яндекса — ', np.var(y))"
   ]
  },
  {
   "cell_type": "code",
   "execution_count": 25,
   "metadata": {
    "pycharm": {
     "name": "#%%\n"
    }
   },
   "outputs": [],
   "source": [
    "alpha = 0.98"
   ]
  },
  {
   "cell_type": "code",
   "execution_count": 26,
   "metadata": {
    "pycharm": {
     "name": "#%%\n"
    }
   },
   "outputs": [],
   "source": [
    "y = np.copy(np.sort(y))\n",
    "m = np.copy(np.sort(m))"
   ]
  },
  {
   "cell_type": "code",
   "execution_count": 28,
   "metadata": {
    "pycharm": {
     "name": "#%%\n"
    }
   },
   "outputs": [
    {
     "name": "stdout",
     "output_type": "stream",
     "text": [
      "VaR доходностей ММК —  -0.03099394371214822\n",
      "VaR доходностей Яндекса —  -0.034547908232118715\n",
      "VaR доходностей ММК больше, чем Яндекса\n"
     ]
    }
   ],
   "source": [
    "print('VaR доходностей ММК — ', var(m, alpha))\n",
    "print('VaR доходностей Яндекса — ', var(y, alpha))\n",
    "if var(m, alpha) > var(y, alpha):\n",
    "    print('VaR доходностей ММК больше, чем Яндекса')\n",
    "elif var(m, alpha) < var(y, alpha):\n",
    "    print('VaR доходностей ММК меньше, чем Яндекса')\n",
    "else:\n",
    "    print('VaR доходностей ММК и Яндекса равны')"
   ]
  },
  {
   "cell_type": "code",
   "execution_count": 36,
   "outputs": [
    {
     "data": {
      "text/plain": "-0.043181167102082765"
     },
     "execution_count": 36,
     "metadata": {},
     "output_type": "execute_result"
    }
   ],
   "source": [
    "cvar_aver(y, alpha)"
   ],
   "metadata": {
    "collapsed": false,
    "pycharm": {
     "name": "#%%\n"
    }
   }
  },
  {
   "cell_type": "code",
   "execution_count": 29,
   "metadata": {
    "pycharm": {
     "name": "#%%\n"
    }
   },
   "outputs": [
    {
     "name": "stdout",
     "output_type": "stream",
     "text": [
      "CVaR доходностей ММК —  -0.04220639308528252\n",
      "CVaR доходностей Яндекса —  -0.04318116710208276\n",
      "CVaR доходностей ММК больше, чем Яндекса\n"
     ]
    }
   ],
   "source": [
    "print('CVaR доходностей ММК — ', cvar(m, alpha))\n",
    "print('CVaR доходностей Яндекса — ', cvar(y, alpha))\n",
    "if cvar(m, alpha) > cvar(y, alpha):\n",
    "    print('CVaR доходностей ММК больше, чем Яндекса')\n",
    "elif cvar(m, alpha) < cvar(y, alpha):\n",
    "    print('CVaR доходностей ММК меньше, чем Яндекса')\n",
    "else:\n",
    "    print('CVaR доходностей ММК и Яндекса равны')"
   ]
  },
  {
   "cell_type": "code",
   "execution_count": 30,
   "metadata": {
    "pycharm": {
     "name": "#%%\n"
    }
   },
   "outputs": [
    {
     "name": "stdout",
     "output_type": "stream",
     "text": [
      "VaR: -0.0345 ММК — 0 %, Yandex — 100 %\n",
      "VaR: -0.0342 ММК — 10 %, Yandex — 90 %\n",
      "VaR: -0.0338 ММК — 20 %, Yandex — 80 %\n",
      "VaR: -0.0335 ММК — 30 %, Yandex — 70 %\n",
      "VaR: -0.0331 ММК — 40 %, Yandex — 60 %\n",
      "VaR: -0.0328 ММК — 50 %, Yandex — 50 %\n",
      "VaR: -0.0324 ММК — 60 %, Yandex — 40 %\n",
      "VaR: -0.0321 ММК — 70 %, Yandex — 30 %\n",
      "VaR: -0.0317 ММК — 80 %, Yandex — 20 %\n",
      "VaR: -0.0313 ММК — 90 %, Yandex — 10 %\n",
      "VaR: -0.031 ММК — 100 %, Yandex — 0 %\n",
      "CVaR: -0.0432 ММК — 0 %, Yandex — 100 %\n",
      "CVaR: -0.0431 ММК — 10 %, Yandex — 90 %\n",
      "CVaR: -0.043 ММК — 20 %, Yandex — 80 %\n",
      "CVaR: -0.0429 ММК — 30 %, Yandex — 70 %\n",
      "CVaR: -0.0428 ММК — 40 %, Yandex — 60 %\n",
      "CVaR: -0.0427 ММК — 50 %, Yandex — 50 %\n",
      "CVaR: -0.0426 ММК — 60 %, Yandex — 40 %\n",
      "CVaR: -0.0425 ММК — 70 %, Yandex — 30 %\n",
      "CVaR: -0.0424 ММК — 80 %, Yandex — 20 %\n",
      "CVaR: -0.0423 ММК — 90 %, Yandex — 10 %\n",
      "CVaR: -0.0422 ММК — 100 %, Yandex — 0 %\n",
      "Оптимальный портфель по критерию VaR: \n",
      "ММК — 100.0 %, Yandex — 0.0 %\n",
      "Оптимальный портфель по критерию CVaR: \n",
      "ММК — 100 %, Yandex — 0 %\n"
     ]
    }
   ],
   "source": [
    "def Y(m, y, part_m):\n",
    "    return part_m * m + (1 - part_m) * y\n",
    "\n",
    "scope = 10 + 1\n",
    "max_var = -1000000\n",
    "max_x_1 = -1\n",
    "max_cvar = -1000000\n",
    "max_x_1_cvar = -1\n",
    "x_1 = np.linspace(0, 1, scope)\n",
    "for i in range(scope):\n",
    "    if var(Y(m, y, x_1[i]), alpha) > max_var:\n",
    "        max_var = var(Y(m, y, x_1[i]), alpha)\n",
    "        max_x_1 = x_1[i]\n",
    "    print('VaR:', round(var(Y(m, y, x_1[i]), alpha), 4), 'ММК —',\\\n",
    "          round(x_1[i]*100), \"%, Yandex —\", round((1 - x_1[i])*100), '%')\n",
    "\n",
    "\n",
    "for i in range(scope):\n",
    "    print('CVaR:', round(cvar(Y(m, y, x_1[i]), alpha), 4), 'ММК —',\\\n",
    "          round(x_1[i]*100), \"%, Yandex —\", round((1 - x_1[i])*100), '%')\n",
    "\n",
    "    if cvar(Y(m, y, x_1[i]), alpha) > max_cvar:\n",
    "        max_cvar = cvar(Y(m, y, x_1[i]), alpha)\n",
    "        max_x_1_cvar = x_1[i]\n",
    "print('Оптимальный портфель по критерию VaR: \\nММК —', round(max_x_1*100, 1),\\\n",
    "      \"%, Yandex —\", round((1 - max_x_1)*100, 1), '%')\n",
    "print('Оптимальный портфель по критерию CVaR: \\nММК —', round(max_x_1_cvar*100),\\\n",
    "      \"%, Yandex —\", round((1 - max_x_1_cvar)*100), '%')\n",
    "\n",
    "\n",
    "# Y = x_j * m + (1 - x_j) * y"
   ]
  },
  {
   "cell_type": "code",
   "execution_count": 30,
   "metadata": {
    "pycharm": {
     "name": "#%%\n"
    }
   },
   "outputs": [],
   "source": []
  },
  {
   "cell_type": "code",
   "execution_count": 30,
   "metadata": {
    "pycharm": {
     "name": "#%%\n"
    }
   },
   "outputs": [],
   "source": []
  }
 ],
 "metadata": {
  "kernelspec": {
   "display_name": "Python 3",
   "language": "python",
   "name": "python3"
  },
  "language_info": {
   "codemirror_mode": {
    "name": "ipython",
    "version": 3
   },
   "file_extension": ".py",
   "mimetype": "text/x-python",
   "name": "python",
   "nbconvert_exporter": "python",
   "pygments_lexer": "ipython3",
   "version": "3.8.5"
  }
 },
 "nbformat": 4,
 "nbformat_minor": 1
}